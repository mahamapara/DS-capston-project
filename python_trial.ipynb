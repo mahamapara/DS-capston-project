{
  "nbformat": 4,
  "nbformat_minor": 0,
  "metadata": {
    "colab": {
      "name": "python trial.ipynb",
      "provenance": [],
      "authorship_tag": "ABX9TyPy3bTT+eOmp/CImmIEhCqM",
      "include_colab_link": true
    },
    "kernelspec": {
      "name": "python3",
      "display_name": "Python 3"
    }
  },
  "cells": [
    {
      "cell_type": "markdown",
      "metadata": {
        "id": "view-in-github",
        "colab_type": "text"
      },
      "source": [
        "<a href=\"https://colab.research.google.com/github/mahamapara/DS-capstone-project/blob/main/python_trial.ipynb\" target=\"_parent\"><img src=\"https://colab.research.google.com/assets/colab-badge.svg\" alt=\"Open In Colab\"/></a>"
      ]
    },
    {
      "cell_type": "code",
      "metadata": {
        "id": "1pf9TpkM5RrV"
      },
      "source": [
        "import pandas as pd\n",
        "import numpy as np\n",
        "import seaborn as sns \n",
        "import matplotlib.pyplot as pyplot"
      ],
      "execution_count": 1,
      "outputs": []
    },
    {
      "cell_type": "code",
      "metadata": {
        "id": "gc8BgntgwHHw"
      },
      "source": [
        "#food access data from the food access research atlas\n",
        "fa = pd.read_csv(\"Food Access Research Atlas.csv\")"
      ],
      "execution_count": 3,
      "outputs": []
    },
    {
      "cell_type": "code",
      "metadata": {
        "id": "uLGn-unLwfX0",
        "outputId": "ceeaacbc-9033-497e-daac-6799a31bd637",
        "colab": {
          "base_uri": "https://localhost:8080/"
        }
      },
      "source": [
        "fa.dtypes"
      ],
      "execution_count": 4,
      "outputs": [
        {
          "output_type": "execute_result",
          "data": {
            "text/plain": [
              "CensusTract        int64\n",
              "State             object\n",
              "County            object\n",
              "Urban              int64\n",
              "POP2010            int64\n",
              "                  ...   \n",
              "TractAIAN        float64\n",
              "TractOMultir     float64\n",
              "TractHispanic    float64\n",
              "TractHUNV        float64\n",
              "TractSNAP        float64\n",
              "Length: 147, dtype: object"
            ]
          },
          "metadata": {
            "tags": []
          },
          "execution_count": 4
        }
      ]
    },
    {
      "cell_type": "code",
      "metadata": {
        "id": "TrKWfJhBwicT",
        "outputId": "a15900c7-5a78-4dff-9922-a994b5e44668",
        "colab": {
          "base_uri": "https://localhost:8080/"
        }
      },
      "source": [
        "fa.shape"
      ],
      "execution_count": 8,
      "outputs": [
        {
          "output_type": "execute_result",
          "data": {
            "text/plain": [
              "(4895, 147)"
            ]
          },
          "metadata": {
            "tags": []
          },
          "execution_count": 8
        }
      ]
    },
    {
      "cell_type": "code",
      "metadata": {
        "id": "Ho4UwWXKAM_A",
        "outputId": "d29c2c5e-7dbf-4a57-e393-723ee974e4c0",
        "colab": {
          "base_uri": "https://localhost:8080/"
        }
      },
      "source": [
        "fa.isnull().sum().sum()"
      ],
      "execution_count": 9,
      "outputs": [
        {
          "output_type": "execute_result",
          "data": {
            "text/plain": [
              "90"
            ]
          },
          "metadata": {
            "tags": []
          },
          "execution_count": 9
        }
      ]
    },
    {
      "cell_type": "code",
      "metadata": {
        "id": "4Ii7vPYcAPhd"
      },
      "source": [
        "only_la = fa['State'] == 'Louisiana'\n",
        "fala = fa[only_la]"
      ],
      "execution_count": 10,
      "outputs": []
    },
    {
      "cell_type": "code",
      "metadata": {
        "id": "ywtcFdOhAvbJ",
        "outputId": "511c1f6a-ea54-4a74-999d-83b8c99faeed",
        "colab": {
          "base_uri": "https://localhost:8080/"
        }
      },
      "source": [
        "fala.shape"
      ],
      "execution_count": 11,
      "outputs": [
        {
          "output_type": "execute_result",
          "data": {
            "text/plain": [
              "(0, 147)"
            ]
          },
          "metadata": {
            "tags": []
          },
          "execution_count": 11
        }
      ]
    }
  ]
}